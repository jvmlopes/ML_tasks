{
 "metadata": {
  "language_info": {
   "codemirror_mode": {
    "name": "ipython",
    "version": 3
   },
   "file_extension": ".py",
   "mimetype": "text/x-python",
   "name": "python",
   "nbconvert_exporter": "python",
   "pygments_lexer": "ipython3",
   "version": "3.8.5"
  },
  "orig_nbformat": 2,
  "kernelspec": {
   "name": "python385jvsc74a57bd00c32d4ad511329ae52bc870c41edf2e26d3a41444ec9db1b037b826e9e4653bc",
   "display_name": "Python 3.8.5 64-bit ('base': conda)"
  }
 },
 "nbformat": 4,
 "nbformat_minor": 2,
 "cells": [
  {
   "source": [
    "The Michigan Data Science Team ([MDST](http://midas.umich.edu/mdst/)) and the Michigan Student Symposium for Interdisciplinary Statistical Sciences ([MSSISS](https://sites.lsa.umich.edu/mssiss/)) have partnered with the City of Detroit to help solve one of the most pressing problems facing Detroit - blight. [Blight violations](http://www.detroitmi.gov/How-Do-I/Report/Blight-Complaint-FAQs) are issued by the city to individuals who allow their properties to remain in a deteriorated condition. Every year, the city of Detroit issues millions of dollars in fines to residents and every year, many of these fines remain unpaid. Enforcing unpaid blight fines is a costly and tedious process, so the city wants to know: how can we increase blight ticket compliance?\n",
    "\n",
    "The first step in answering this question is understanding when and why a resident might fail to comply with a blight ticket. This is where predictive modeling comes in. For this assignment, your task is to predict whether a given blight ticket will be paid on time.\n",
    "\n",
    "All data for this assignment has been provided to us through the [Detroit Open Data Portal](https://data.detroitmi.gov/). **Only the data already included in your Coursera directory can be used for training the model for this assignment.** Nonetheless, we encourage you to look into data from other Detroit datasets to help inform feature creation and model selection. We recommend taking a look at the following related datasets:\n",
    "\n",
    "* [Building Permits](https://data.detroitmi.gov/Property-Parcels/Building-Permits/xw2a-a7tf)\n",
    "* [Trades Permits](https://data.detroitmi.gov/Property-Parcels/Trades-Permits/635b-dsgv)\n",
    "* [Improve Detroit: Submitted Issues](https://data.detroitmi.gov/Government/Improve-Detroit-Submitted-Issues/fwz3-w3yn)\n",
    "* [DPD: Citizen Complaints](https://data.detroitmi.gov/Public-Safety/DPD-Citizen-Complaints-2016/kahe-efs3)\n",
    "* [Parcel Map](https://data.detroitmi.gov/Property-Parcels/Parcel-Map/fxkw-udwf)"
   ],
   "cell_type": "markdown",
   "metadata": {}
  },
  {
   "cell_type": "code",
   "execution_count": 2,
   "metadata": {},
   "outputs": [],
   "source": [
    "# Importing instances\n",
    "# import instances and data\n",
    "import pandas as pd\n",
    "import pandas_profiling\n",
    "import numpy as np\n",
    "import matplotlib as plt\n",
    "from sklearn.metrics import auc\n",
    "from sklearn.model_selection import train_test_split\n",
    "from sklearn.ensemble import GradientBoostingClassifier"
   ]
  },
  {
   "cell_type": "code",
   "execution_count": 38,
   "metadata": {},
   "outputs": [],
   "source": [
    "# loading train and test DF\n",
    "df_train = pd.read_csv('readonly/train.csv', encoding='latin', low_memory=False)\n",
    "df_test = pd.read_csv('readonly/test.csv')\n",
    "# removing unused features\n",
    "useless_both = ['clean_up_cost',\n",
    "                'inspector_name',\n",
    "                'discount_amount',\n",
    "                'grafitti_status',                          \n",
    "                'violator_name',                          \n",
    "                'zip_code',\n",
    "                'violation_description',\n",
    "                'violation_zip_code',\n",
    "                'disposition',\n",
    "                'non_us_str_code',\n",
    "                'fine_amount',\n",
    "                'admin_fee',\n",
    "                'state_fee',\n",
    "                'late_fee',\n",
    "                'violation_street_number',\n",
    "                'violation_street_name',\n",
    "                'mailing_address_str_number',\n",
    "                'mailing_address_str_name',\n",
    "                'country']\n",
    "\n",
    "useless_train =  ['collection_status',\n",
    "                  'payment_amount',\n",
    "                  'payment_date',\n",
    "                  'payment_status',\n",
    "                  'compliance_detail',\n",
    "                  'balance_due']\n",
    "\n",
    "# droping useless features\n",
    "train_df = df_train.drop(columns=useless_train).dropna(subset=['compliance']).set_index('ticket_id')\n",
    "train_df.drop(columns=useless_both, inplace=True)\n",
    "df_test.drop(columns=useless_both, inplace=True)\n",
    "df_test.set_index('ticket_id', inplace=True)"
   ]
  },
  {
   "cell_type": "code",
   "execution_count": 93,
   "metadata": {},
   "outputs": [],
   "source": [
    "# replacing dicts\n",
    "repl_city = {'other':1, \n",
    "             'DETROIT': 2, \n",
    "             'DEARBORN': 3, \n",
    "             'SOUTHFIELD':4, \n",
    "             'FARMINGTON HILLS':5}\n",
    "repl_agency = {'Buildings, Safety Engineering & Env Department': 0,\n",
    "               'Health Department':1, \n",
    "               'Department of Public Works':2,\n",
    "               'Detroit Police Department':3, \n",
    "               'Neighborhood City Halls':4}\n",
    "repl_vcode = {'9-1-36(a)':0, \n",
    "              'other':1, \n",
    "              '22-2-88':2,\n",
    "              '9-1-104':3, \n",
    "              '9-1-81(a)':4}\n",
    "\n",
    "# encoding function\n",
    "def group_encoding(code, code_list):\n",
    "    # check if code is in most frequent, if not replace with 'other'\n",
    "    if code not in code_list:\n",
    "        code = 'other'\n",
    "    return code\n",
    "\n",
    "\n",
    "# feature processing function\n",
    "def feature_processing(df):\n",
    "    # Adding days since issued ticket feature\n",
    "    df['days_since'] = (pd.to_datetime(df  ['hearing_date'])-pd.to_datetime(df['ticket_issued_date'])).dt.days\n",
    "    #dopping used collumns\n",
    "    df = df.drop(columns=['hearing_date','ticket_issued_date'])\n",
    "\n",
    "    # city str uniformization\n",
    "    df['city'] = df['city'].str.upper()\n",
    "    \n",
    "    # Encoding features to most frequent groups\n",
    "    # Grouping to encode\n",
    "    violation_cat = ['9-1-36(a)', '9-1-81(a)', '22-2-88', '9-1-104']\n",
    "    cities_code = ['DETROIT', 'SOUTHFIELD', 'DEARBORN', 'FARMINGTON HILLS']\n",
    "\n",
    "    # Applying encodig funtion to features\n",
    "    df['violation_code'] = df['violation_code'].apply(group_encoding, code_list= violation_cat)\n",
    "    df['city'] = df['city'].apply(group_encoding, code_list = cities_code)\n",
    "\n",
    "    # encoding states to be onli MI or others\n",
    "    df.loc[df['state'] != 'MI', 'state'] = 0\n",
    "    df.loc[df['state'] == 'MI', 'state'] = 1\n",
    "    # replacing negative days since value with the median\n",
    "    df.loc[df['days_since'] < 0, 'days_since'] = df.days_since.median()\n",
    "    df.days_since = df.days_since.fillna(value=54.)\n",
    "\n",
    "    # Final encoding of features\n",
    "    df.city = df.city.replace(repl_city)\n",
    "    df.agency_name = df.agency_name.replace(repl_agency)\n",
    "    df.violation_code = df.violation_code.replace(repl_vcode)\n",
    "\n",
    "    return df"
   ]
  },
  {
   "cell_type": "code",
   "execution_count": 96,
   "metadata": {},
   "outputs": [],
   "source": [
    "# training sets\n",
    "X = feature_processing(train_df).drop(columns='compliance')\n",
    "y = feature_processing(train_df)['compliance']"
   ]
  },
  {
   "cell_type": "code",
   "execution_count": 97,
   "metadata": {},
   "outputs": [],
   "source": [
    "# Starting the model building\n",
    "# train and test sets\n",
    "X_train, X_test, y_train, y_test = train_test_split(X, y, random_state=45, train_size=0.7)"
   ]
  },
  {
   "cell_type": "code",
   "execution_count": 102,
   "metadata": {},
   "outputs": [
    {
     "output_type": "execute_result",
     "data": {
      "text/plain": [
       "0.9310733049787341"
      ]
     },
     "metadata": {},
     "execution_count": 102
    }
   ],
   "source": [
    "clf = GradientBoostingClassifier(n_estimators=100, learning_rate=0.5, max_depth=4, random_state=0).fit(X_train, y_train)\n",
    "clf.score(X_test, y_test)"
   ]
  },
  {
   "cell_type": "code",
   "execution_count": 103,
   "metadata": {},
   "outputs": [
    {
     "output_type": "execute_result",
     "data": {
      "text/plain": [
       "<sklearn.metrics._plot.roc_curve.RocCurveDisplay at 0x7fe9e0607550>"
      ]
     },
     "metadata": {},
     "execution_count": 103
    },
    {
     "output_type": "display_data",
     "data": {
      "text/plain": "<Figure size 432x288 with 1 Axes>",
      "image/svg+xml": "<?xml version=\"1.0\" encoding=\"utf-8\" standalone=\"no\"?>\n<!DOCTYPE svg PUBLIC \"-//W3C//DTD SVG 1.1//EN\"\n  \"http://www.w3.org/Graphics/SVG/1.1/DTD/svg11.dtd\">\n<!-- Created with matplotlib (https://matplotlib.org/) -->\n<svg height=\"262.19625pt\" version=\"1.1\" viewBox=\"0 0 385.78125 262.19625\" width=\"385.78125pt\" xmlns=\"http://www.w3.org/2000/svg\" xmlns:xlink=\"http://www.w3.org/1999/xlink\">\n <metadata>\n  <rdf:RDF xmlns:cc=\"http://creativecommons.org/ns#\" xmlns:dc=\"http://purl.org/dc/elements/1.1/\" xmlns:rdf=\"http://www.w3.org/1999/02/22-rdf-syntax-ns#\">\n   <cc:Work>\n    <dc:type rdf:resource=\"http://purl.org/dc/dcmitype/StillImage\"/>\n    <dc:date>2021-04-08T03:26:27.360701</dc:date>\n    <dc:format>image/svg+xml</dc:format>\n    <dc:creator>\n     <cc:Agent>\n      <dc:title>Matplotlib v3.3.2, https://matplotlib.org/</dc:title>\n     </cc:Agent>\n    </dc:creator>\n   </cc:Work>\n  </rdf:RDF>\n </metadata>\n <defs>\n  <style type=\"text/css\">*{stroke-linecap:butt;stroke-linejoin:round;}</style>\n </defs>\n <g id=\"figure_1\">\n  <g id=\"patch_1\">\n   <path d=\"M 0 262.19625 \nL 385.78125 262.19625 \nL 385.78125 0 \nL 0 0 \nz\n\" style=\"fill:none;\"/>\n  </g>\n  <g id=\"axes_1\">\n   <g id=\"patch_2\">\n    <path d=\"M 43.78125 224.64 \nL 378.58125 224.64 \nL 378.58125 7.2 \nL 43.78125 7.2 \nz\n\" style=\"fill:#ffffff;\"/>\n   </g>\n   <g id=\"matplotlib.axis_1\">\n    <g id=\"xtick_1\">\n     <g id=\"line2d_1\">\n      <defs>\n       <path d=\"M 0 0 \nL 0 3.5 \n\" id=\"m6c4046eae3\" style=\"stroke:#000000;stroke-width:0.8;\"/>\n      </defs>\n      <g>\n       <use style=\"stroke:#000000;stroke-width:0.8;\" x=\"58.999432\" xlink:href=\"#m6c4046eae3\" y=\"224.64\"/>\n      </g>\n     </g>\n     <g id=\"text_1\">\n      <!-- 0.0 -->\n      <g transform=\"translate(51.047869 239.238437)scale(0.1 -0.1)\">\n       <defs>\n        <path d=\"M 31.78125 66.40625 \nQ 24.171875 66.40625 20.328125 58.90625 \nQ 16.5 51.421875 16.5 36.375 \nQ 16.5 21.390625 20.328125 13.890625 \nQ 24.171875 6.390625 31.78125 6.390625 \nQ 39.453125 6.390625 43.28125 13.890625 \nQ 47.125 21.390625 47.125 36.375 \nQ 47.125 51.421875 43.28125 58.90625 \nQ 39.453125 66.40625 31.78125 66.40625 \nz\nM 31.78125 74.21875 \nQ 44.046875 74.21875 50.515625 64.515625 \nQ 56.984375 54.828125 56.984375 36.375 \nQ 56.984375 17.96875 50.515625 8.265625 \nQ 44.046875 -1.421875 31.78125 -1.421875 \nQ 19.53125 -1.421875 13.0625 8.265625 \nQ 6.59375 17.96875 6.59375 36.375 \nQ 6.59375 54.828125 13.0625 64.515625 \nQ 19.53125 74.21875 31.78125 74.21875 \nz\n\" id=\"DejaVuSans-48\"/>\n        <path d=\"M 10.6875 12.40625 \nL 21 12.40625 \nL 21 0 \nL 10.6875 0 \nz\n\" id=\"DejaVuSans-46\"/>\n       </defs>\n       <use xlink:href=\"#DejaVuSans-48\"/>\n       <use x=\"63.623047\" xlink:href=\"#DejaVuSans-46\"/>\n       <use x=\"95.410156\" xlink:href=\"#DejaVuSans-48\"/>\n      </g>\n     </g>\n    </g>\n    <g id=\"xtick_2\">\n     <g id=\"line2d_2\">\n      <g>\n       <use style=\"stroke:#000000;stroke-width:0.8;\" x=\"119.872159\" xlink:href=\"#m6c4046eae3\" y=\"224.64\"/>\n      </g>\n     </g>\n     <g id=\"text_2\">\n      <!-- 0.2 -->\n      <g transform=\"translate(111.920597 239.238437)scale(0.1 -0.1)\">\n       <defs>\n        <path d=\"M 19.1875 8.296875 \nL 53.609375 8.296875 \nL 53.609375 0 \nL 7.328125 0 \nL 7.328125 8.296875 \nQ 12.9375 14.109375 22.625 23.890625 \nQ 32.328125 33.6875 34.8125 36.53125 \nQ 39.546875 41.84375 41.421875 45.53125 \nQ 43.3125 49.21875 43.3125 52.78125 \nQ 43.3125 58.59375 39.234375 62.25 \nQ 35.15625 65.921875 28.609375 65.921875 \nQ 23.96875 65.921875 18.8125 64.3125 \nQ 13.671875 62.703125 7.8125 59.421875 \nL 7.8125 69.390625 \nQ 13.765625 71.78125 18.9375 73 \nQ 24.125 74.21875 28.421875 74.21875 \nQ 39.75 74.21875 46.484375 68.546875 \nQ 53.21875 62.890625 53.21875 53.421875 \nQ 53.21875 48.921875 51.53125 44.890625 \nQ 49.859375 40.875 45.40625 35.40625 \nQ 44.1875 33.984375 37.640625 27.21875 \nQ 31.109375 20.453125 19.1875 8.296875 \nz\n\" id=\"DejaVuSans-50\"/>\n       </defs>\n       <use xlink:href=\"#DejaVuSans-48\"/>\n       <use x=\"63.623047\" xlink:href=\"#DejaVuSans-46\"/>\n       <use x=\"95.410156\" xlink:href=\"#DejaVuSans-50\"/>\n      </g>\n     </g>\n    </g>\n    <g id=\"xtick_3\">\n     <g id=\"line2d_3\">\n      <g>\n       <use style=\"stroke:#000000;stroke-width:0.8;\" x=\"180.744886\" xlink:href=\"#m6c4046eae3\" y=\"224.64\"/>\n      </g>\n     </g>\n     <g id=\"text_3\">\n      <!-- 0.4 -->\n      <g transform=\"translate(172.793324 239.238437)scale(0.1 -0.1)\">\n       <defs>\n        <path d=\"M 37.796875 64.3125 \nL 12.890625 25.390625 \nL 37.796875 25.390625 \nz\nM 35.203125 72.90625 \nL 47.609375 72.90625 \nL 47.609375 25.390625 \nL 58.015625 25.390625 \nL 58.015625 17.1875 \nL 47.609375 17.1875 \nL 47.609375 0 \nL 37.796875 0 \nL 37.796875 17.1875 \nL 4.890625 17.1875 \nL 4.890625 26.703125 \nz\n\" id=\"DejaVuSans-52\"/>\n       </defs>\n       <use xlink:href=\"#DejaVuSans-48\"/>\n       <use x=\"63.623047\" xlink:href=\"#DejaVuSans-46\"/>\n       <use x=\"95.410156\" xlink:href=\"#DejaVuSans-52\"/>\n      </g>\n     </g>\n    </g>\n    <g id=\"xtick_4\">\n     <g id=\"line2d_4\">\n      <g>\n       <use style=\"stroke:#000000;stroke-width:0.8;\" x=\"241.617614\" xlink:href=\"#m6c4046eae3\" y=\"224.64\"/>\n      </g>\n     </g>\n     <g id=\"text_4\">\n      <!-- 0.6 -->\n      <g transform=\"translate(233.666051 239.238437)scale(0.1 -0.1)\">\n       <defs>\n        <path d=\"M 33.015625 40.375 \nQ 26.375 40.375 22.484375 35.828125 \nQ 18.609375 31.296875 18.609375 23.390625 \nQ 18.609375 15.53125 22.484375 10.953125 \nQ 26.375 6.390625 33.015625 6.390625 \nQ 39.65625 6.390625 43.53125 10.953125 \nQ 47.40625 15.53125 47.40625 23.390625 \nQ 47.40625 31.296875 43.53125 35.828125 \nQ 39.65625 40.375 33.015625 40.375 \nz\nM 52.59375 71.296875 \nL 52.59375 62.3125 \nQ 48.875 64.0625 45.09375 64.984375 \nQ 41.3125 65.921875 37.59375 65.921875 \nQ 27.828125 65.921875 22.671875 59.328125 \nQ 17.53125 52.734375 16.796875 39.40625 \nQ 19.671875 43.65625 24.015625 45.921875 \nQ 28.375 48.1875 33.59375 48.1875 \nQ 44.578125 48.1875 50.953125 41.515625 \nQ 57.328125 34.859375 57.328125 23.390625 \nQ 57.328125 12.15625 50.6875 5.359375 \nQ 44.046875 -1.421875 33.015625 -1.421875 \nQ 20.359375 -1.421875 13.671875 8.265625 \nQ 6.984375 17.96875 6.984375 36.375 \nQ 6.984375 53.65625 15.1875 63.9375 \nQ 23.390625 74.21875 37.203125 74.21875 \nQ 40.921875 74.21875 44.703125 73.484375 \nQ 48.484375 72.75 52.59375 71.296875 \nz\n\" id=\"DejaVuSans-54\"/>\n       </defs>\n       <use xlink:href=\"#DejaVuSans-48\"/>\n       <use x=\"63.623047\" xlink:href=\"#DejaVuSans-46\"/>\n       <use x=\"95.410156\" xlink:href=\"#DejaVuSans-54\"/>\n      </g>\n     </g>\n    </g>\n    <g id=\"xtick_5\">\n     <g id=\"line2d_5\">\n      <g>\n       <use style=\"stroke:#000000;stroke-width:0.8;\" x=\"302.490341\" xlink:href=\"#m6c4046eae3\" y=\"224.64\"/>\n      </g>\n     </g>\n     <g id=\"text_5\">\n      <!-- 0.8 -->\n      <g transform=\"translate(294.538778 239.238437)scale(0.1 -0.1)\">\n       <defs>\n        <path d=\"M 31.78125 34.625 \nQ 24.75 34.625 20.71875 30.859375 \nQ 16.703125 27.09375 16.703125 20.515625 \nQ 16.703125 13.921875 20.71875 10.15625 \nQ 24.75 6.390625 31.78125 6.390625 \nQ 38.8125 6.390625 42.859375 10.171875 \nQ 46.921875 13.96875 46.921875 20.515625 \nQ 46.921875 27.09375 42.890625 30.859375 \nQ 38.875 34.625 31.78125 34.625 \nz\nM 21.921875 38.8125 \nQ 15.578125 40.375 12.03125 44.71875 \nQ 8.5 49.078125 8.5 55.328125 \nQ 8.5 64.0625 14.71875 69.140625 \nQ 20.953125 74.21875 31.78125 74.21875 \nQ 42.671875 74.21875 48.875 69.140625 \nQ 55.078125 64.0625 55.078125 55.328125 \nQ 55.078125 49.078125 51.53125 44.71875 \nQ 48 40.375 41.703125 38.8125 \nQ 48.828125 37.15625 52.796875 32.3125 \nQ 56.78125 27.484375 56.78125 20.515625 \nQ 56.78125 9.90625 50.3125 4.234375 \nQ 43.84375 -1.421875 31.78125 -1.421875 \nQ 19.734375 -1.421875 13.25 4.234375 \nQ 6.78125 9.90625 6.78125 20.515625 \nQ 6.78125 27.484375 10.78125 32.3125 \nQ 14.796875 37.15625 21.921875 38.8125 \nz\nM 18.3125 54.390625 \nQ 18.3125 48.734375 21.84375 45.5625 \nQ 25.390625 42.390625 31.78125 42.390625 \nQ 38.140625 42.390625 41.71875 45.5625 \nQ 45.3125 48.734375 45.3125 54.390625 \nQ 45.3125 60.0625 41.71875 63.234375 \nQ 38.140625 66.40625 31.78125 66.40625 \nQ 25.390625 66.40625 21.84375 63.234375 \nQ 18.3125 60.0625 18.3125 54.390625 \nz\n\" id=\"DejaVuSans-56\"/>\n       </defs>\n       <use xlink:href=\"#DejaVuSans-48\"/>\n       <use x=\"63.623047\" xlink:href=\"#DejaVuSans-46\"/>\n       <use x=\"95.410156\" xlink:href=\"#DejaVuSans-56\"/>\n      </g>\n     </g>\n    </g>\n    <g id=\"xtick_6\">\n     <g id=\"line2d_6\">\n      <g>\n       <use style=\"stroke:#000000;stroke-width:0.8;\" x=\"363.363068\" xlink:href=\"#m6c4046eae3\" y=\"224.64\"/>\n      </g>\n     </g>\n     <g id=\"text_6\">\n      <!-- 1.0 -->\n      <g transform=\"translate(355.411506 239.238437)scale(0.1 -0.1)\">\n       <defs>\n        <path d=\"M 12.40625 8.296875 \nL 28.515625 8.296875 \nL 28.515625 63.921875 \nL 10.984375 60.40625 \nL 10.984375 69.390625 \nL 28.421875 72.90625 \nL 38.28125 72.90625 \nL 38.28125 8.296875 \nL 54.390625 8.296875 \nL 54.390625 0 \nL 12.40625 0 \nz\n\" id=\"DejaVuSans-49\"/>\n       </defs>\n       <use xlink:href=\"#DejaVuSans-49\"/>\n       <use x=\"63.623047\" xlink:href=\"#DejaVuSans-46\"/>\n       <use x=\"95.410156\" xlink:href=\"#DejaVuSans-48\"/>\n      </g>\n     </g>\n    </g>\n    <g id=\"text_7\">\n     <!-- False Positive Rate -->\n     <g transform=\"translate(164.714844 252.916562)scale(0.1 -0.1)\">\n      <defs>\n       <path d=\"M 9.8125 72.90625 \nL 51.703125 72.90625 \nL 51.703125 64.59375 \nL 19.671875 64.59375 \nL 19.671875 43.109375 \nL 48.578125 43.109375 \nL 48.578125 34.8125 \nL 19.671875 34.8125 \nL 19.671875 0 \nL 9.8125 0 \nz\n\" id=\"DejaVuSans-70\"/>\n       <path d=\"M 34.28125 27.484375 \nQ 23.390625 27.484375 19.1875 25 \nQ 14.984375 22.515625 14.984375 16.5 \nQ 14.984375 11.71875 18.140625 8.90625 \nQ 21.296875 6.109375 26.703125 6.109375 \nQ 34.1875 6.109375 38.703125 11.40625 \nQ 43.21875 16.703125 43.21875 25.484375 \nL 43.21875 27.484375 \nz\nM 52.203125 31.203125 \nL 52.203125 0 \nL 43.21875 0 \nL 43.21875 8.296875 \nQ 40.140625 3.328125 35.546875 0.953125 \nQ 30.953125 -1.421875 24.3125 -1.421875 \nQ 15.921875 -1.421875 10.953125 3.296875 \nQ 6 8.015625 6 15.921875 \nQ 6 25.140625 12.171875 29.828125 \nQ 18.359375 34.515625 30.609375 34.515625 \nL 43.21875 34.515625 \nL 43.21875 35.40625 \nQ 43.21875 41.609375 39.140625 45 \nQ 35.0625 48.390625 27.6875 48.390625 \nQ 23 48.390625 18.546875 47.265625 \nQ 14.109375 46.140625 10.015625 43.890625 \nL 10.015625 52.203125 \nQ 14.9375 54.109375 19.578125 55.046875 \nQ 24.21875 56 28.609375 56 \nQ 40.484375 56 46.34375 49.84375 \nQ 52.203125 43.703125 52.203125 31.203125 \nz\n\" id=\"DejaVuSans-97\"/>\n       <path d=\"M 9.421875 75.984375 \nL 18.40625 75.984375 \nL 18.40625 0 \nL 9.421875 0 \nz\n\" id=\"DejaVuSans-108\"/>\n       <path d=\"M 44.28125 53.078125 \nL 44.28125 44.578125 \nQ 40.484375 46.53125 36.375 47.5 \nQ 32.28125 48.484375 27.875 48.484375 \nQ 21.1875 48.484375 17.84375 46.4375 \nQ 14.5 44.390625 14.5 40.28125 \nQ 14.5 37.15625 16.890625 35.375 \nQ 19.28125 33.59375 26.515625 31.984375 \nL 29.59375 31.296875 \nQ 39.15625 29.25 43.1875 25.515625 \nQ 47.21875 21.78125 47.21875 15.09375 \nQ 47.21875 7.46875 41.1875 3.015625 \nQ 35.15625 -1.421875 24.609375 -1.421875 \nQ 20.21875 -1.421875 15.453125 -0.5625 \nQ 10.6875 0.296875 5.421875 2 \nL 5.421875 11.28125 \nQ 10.40625 8.6875 15.234375 7.390625 \nQ 20.0625 6.109375 24.8125 6.109375 \nQ 31.15625 6.109375 34.5625 8.28125 \nQ 37.984375 10.453125 37.984375 14.40625 \nQ 37.984375 18.0625 35.515625 20.015625 \nQ 33.0625 21.96875 24.703125 23.78125 \nL 21.578125 24.515625 \nQ 13.234375 26.265625 9.515625 29.90625 \nQ 5.8125 33.546875 5.8125 39.890625 \nQ 5.8125 47.609375 11.28125 51.796875 \nQ 16.75 56 26.8125 56 \nQ 31.78125 56 36.171875 55.265625 \nQ 40.578125 54.546875 44.28125 53.078125 \nz\n\" id=\"DejaVuSans-115\"/>\n       <path d=\"M 56.203125 29.59375 \nL 56.203125 25.203125 \nL 14.890625 25.203125 \nQ 15.484375 15.921875 20.484375 11.0625 \nQ 25.484375 6.203125 34.421875 6.203125 \nQ 39.59375 6.203125 44.453125 7.46875 \nQ 49.3125 8.734375 54.109375 11.28125 \nL 54.109375 2.78125 \nQ 49.265625 0.734375 44.1875 -0.34375 \nQ 39.109375 -1.421875 33.890625 -1.421875 \nQ 20.796875 -1.421875 13.15625 6.1875 \nQ 5.515625 13.8125 5.515625 26.8125 \nQ 5.515625 40.234375 12.765625 48.109375 \nQ 20.015625 56 32.328125 56 \nQ 43.359375 56 49.78125 48.890625 \nQ 56.203125 41.796875 56.203125 29.59375 \nz\nM 47.21875 32.234375 \nQ 47.125 39.59375 43.09375 43.984375 \nQ 39.0625 48.390625 32.421875 48.390625 \nQ 24.90625 48.390625 20.390625 44.140625 \nQ 15.875 39.890625 15.1875 32.171875 \nz\n\" id=\"DejaVuSans-101\"/>\n       <path id=\"DejaVuSans-32\"/>\n       <path d=\"M 19.671875 64.796875 \nL 19.671875 37.40625 \nL 32.078125 37.40625 \nQ 38.96875 37.40625 42.71875 40.96875 \nQ 46.484375 44.53125 46.484375 51.125 \nQ 46.484375 57.671875 42.71875 61.234375 \nQ 38.96875 64.796875 32.078125 64.796875 \nz\nM 9.8125 72.90625 \nL 32.078125 72.90625 \nQ 44.34375 72.90625 50.609375 67.359375 \nQ 56.890625 61.8125 56.890625 51.125 \nQ 56.890625 40.328125 50.609375 34.8125 \nQ 44.34375 29.296875 32.078125 29.296875 \nL 19.671875 29.296875 \nL 19.671875 0 \nL 9.8125 0 \nz\n\" id=\"DejaVuSans-80\"/>\n       <path d=\"M 30.609375 48.390625 \nQ 23.390625 48.390625 19.1875 42.75 \nQ 14.984375 37.109375 14.984375 27.296875 \nQ 14.984375 17.484375 19.15625 11.84375 \nQ 23.34375 6.203125 30.609375 6.203125 \nQ 37.796875 6.203125 41.984375 11.859375 \nQ 46.1875 17.53125 46.1875 27.296875 \nQ 46.1875 37.015625 41.984375 42.703125 \nQ 37.796875 48.390625 30.609375 48.390625 \nz\nM 30.609375 56 \nQ 42.328125 56 49.015625 48.375 \nQ 55.71875 40.765625 55.71875 27.296875 \nQ 55.71875 13.875 49.015625 6.21875 \nQ 42.328125 -1.421875 30.609375 -1.421875 \nQ 18.84375 -1.421875 12.171875 6.21875 \nQ 5.515625 13.875 5.515625 27.296875 \nQ 5.515625 40.765625 12.171875 48.375 \nQ 18.84375 56 30.609375 56 \nz\n\" id=\"DejaVuSans-111\"/>\n       <path d=\"M 9.421875 54.6875 \nL 18.40625 54.6875 \nL 18.40625 0 \nL 9.421875 0 \nz\nM 9.421875 75.984375 \nL 18.40625 75.984375 \nL 18.40625 64.59375 \nL 9.421875 64.59375 \nz\n\" id=\"DejaVuSans-105\"/>\n       <path d=\"M 18.3125 70.21875 \nL 18.3125 54.6875 \nL 36.8125 54.6875 \nL 36.8125 47.703125 \nL 18.3125 47.703125 \nL 18.3125 18.015625 \nQ 18.3125 11.328125 20.140625 9.421875 \nQ 21.96875 7.515625 27.59375 7.515625 \nL 36.8125 7.515625 \nL 36.8125 0 \nL 27.59375 0 \nQ 17.1875 0 13.234375 3.875 \nQ 9.28125 7.765625 9.28125 18.015625 \nL 9.28125 47.703125 \nL 2.6875 47.703125 \nL 2.6875 54.6875 \nL 9.28125 54.6875 \nL 9.28125 70.21875 \nz\n\" id=\"DejaVuSans-116\"/>\n       <path d=\"M 2.984375 54.6875 \nL 12.5 54.6875 \nL 29.59375 8.796875 \nL 46.6875 54.6875 \nL 56.203125 54.6875 \nL 35.6875 0 \nL 23.484375 0 \nz\n\" id=\"DejaVuSans-118\"/>\n       <path d=\"M 44.390625 34.1875 \nQ 47.5625 33.109375 50.5625 29.59375 \nQ 53.5625 26.078125 56.59375 19.921875 \nL 66.609375 0 \nL 56 0 \nL 46.6875 18.703125 \nQ 43.0625 26.03125 39.671875 28.421875 \nQ 36.28125 30.8125 30.421875 30.8125 \nL 19.671875 30.8125 \nL 19.671875 0 \nL 9.8125 0 \nL 9.8125 72.90625 \nL 32.078125 72.90625 \nQ 44.578125 72.90625 50.734375 67.671875 \nQ 56.890625 62.453125 56.890625 51.90625 \nQ 56.890625 45.015625 53.6875 40.46875 \nQ 50.484375 35.9375 44.390625 34.1875 \nz\nM 19.671875 64.796875 \nL 19.671875 38.921875 \nL 32.078125 38.921875 \nQ 39.203125 38.921875 42.84375 42.21875 \nQ 46.484375 45.515625 46.484375 51.90625 \nQ 46.484375 58.296875 42.84375 61.546875 \nQ 39.203125 64.796875 32.078125 64.796875 \nz\n\" id=\"DejaVuSans-82\"/>\n      </defs>\n      <use xlink:href=\"#DejaVuSans-70\"/>\n      <use x=\"48.394531\" xlink:href=\"#DejaVuSans-97\"/>\n      <use x=\"109.673828\" xlink:href=\"#DejaVuSans-108\"/>\n      <use x=\"137.457031\" xlink:href=\"#DejaVuSans-115\"/>\n      <use x=\"189.556641\" xlink:href=\"#DejaVuSans-101\"/>\n      <use x=\"251.080078\" xlink:href=\"#DejaVuSans-32\"/>\n      <use x=\"282.867188\" xlink:href=\"#DejaVuSans-80\"/>\n      <use x=\"339.544922\" xlink:href=\"#DejaVuSans-111\"/>\n      <use x=\"400.726562\" xlink:href=\"#DejaVuSans-115\"/>\n      <use x=\"452.826172\" xlink:href=\"#DejaVuSans-105\"/>\n      <use x=\"480.609375\" xlink:href=\"#DejaVuSans-116\"/>\n      <use x=\"519.818359\" xlink:href=\"#DejaVuSans-105\"/>\n      <use x=\"547.601562\" xlink:href=\"#DejaVuSans-118\"/>\n      <use x=\"606.78125\" xlink:href=\"#DejaVuSans-101\"/>\n      <use x=\"668.304688\" xlink:href=\"#DejaVuSans-32\"/>\n      <use x=\"700.091797\" xlink:href=\"#DejaVuSans-82\"/>\n      <use x=\"767.324219\" xlink:href=\"#DejaVuSans-97\"/>\n      <use x=\"828.603516\" xlink:href=\"#DejaVuSans-116\"/>\n      <use x=\"867.8125\" xlink:href=\"#DejaVuSans-101\"/>\n     </g>\n    </g>\n   </g>\n   <g id=\"matplotlib.axis_2\">\n    <g id=\"ytick_1\">\n     <g id=\"line2d_7\">\n      <defs>\n       <path d=\"M 0 0 \nL -3.5 0 \n\" id=\"m90e941138e\" style=\"stroke:#000000;stroke-width:0.8;\"/>\n      </defs>\n      <g>\n       <use style=\"stroke:#000000;stroke-width:0.8;\" x=\"43.78125\" xlink:href=\"#m90e941138e\" y=\"214.756364\"/>\n      </g>\n     </g>\n     <g id=\"text_8\">\n      <!-- 0.0 -->\n      <g transform=\"translate(20.878125 218.555582)scale(0.1 -0.1)\">\n       <use xlink:href=\"#DejaVuSans-48\"/>\n       <use x=\"63.623047\" xlink:href=\"#DejaVuSans-46\"/>\n       <use x=\"95.410156\" xlink:href=\"#DejaVuSans-48\"/>\n      </g>\n     </g>\n    </g>\n    <g id=\"ytick_2\">\n     <g id=\"line2d_8\">\n      <g>\n       <use style=\"stroke:#000000;stroke-width:0.8;\" x=\"43.78125\" xlink:href=\"#m90e941138e\" y=\"175.221818\"/>\n      </g>\n     </g>\n     <g id=\"text_9\">\n      <!-- 0.2 -->\n      <g transform=\"translate(20.878125 179.021037)scale(0.1 -0.1)\">\n       <use xlink:href=\"#DejaVuSans-48\"/>\n       <use x=\"63.623047\" xlink:href=\"#DejaVuSans-46\"/>\n       <use x=\"95.410156\" xlink:href=\"#DejaVuSans-50\"/>\n      </g>\n     </g>\n    </g>\n    <g id=\"ytick_3\">\n     <g id=\"line2d_9\">\n      <g>\n       <use style=\"stroke:#000000;stroke-width:0.8;\" x=\"43.78125\" xlink:href=\"#m90e941138e\" y=\"135.687273\"/>\n      </g>\n     </g>\n     <g id=\"text_10\">\n      <!-- 0.4 -->\n      <g transform=\"translate(20.878125 139.486491)scale(0.1 -0.1)\">\n       <use xlink:href=\"#DejaVuSans-48\"/>\n       <use x=\"63.623047\" xlink:href=\"#DejaVuSans-46\"/>\n       <use x=\"95.410156\" xlink:href=\"#DejaVuSans-52\"/>\n      </g>\n     </g>\n    </g>\n    <g id=\"ytick_4\">\n     <g id=\"line2d_10\">\n      <g>\n       <use style=\"stroke:#000000;stroke-width:0.8;\" x=\"43.78125\" xlink:href=\"#m90e941138e\" y=\"96.152727\"/>\n      </g>\n     </g>\n     <g id=\"text_11\">\n      <!-- 0.6 -->\n      <g transform=\"translate(20.878125 99.951946)scale(0.1 -0.1)\">\n       <use xlink:href=\"#DejaVuSans-48\"/>\n       <use x=\"63.623047\" xlink:href=\"#DejaVuSans-46\"/>\n       <use x=\"95.410156\" xlink:href=\"#DejaVuSans-54\"/>\n      </g>\n     </g>\n    </g>\n    <g id=\"ytick_5\">\n     <g id=\"line2d_11\">\n      <g>\n       <use style=\"stroke:#000000;stroke-width:0.8;\" x=\"43.78125\" xlink:href=\"#m90e941138e\" y=\"56.618182\"/>\n      </g>\n     </g>\n     <g id=\"text_12\">\n      <!-- 0.8 -->\n      <g transform=\"translate(20.878125 60.417401)scale(0.1 -0.1)\">\n       <use xlink:href=\"#DejaVuSans-48\"/>\n       <use x=\"63.623047\" xlink:href=\"#DejaVuSans-46\"/>\n       <use x=\"95.410156\" xlink:href=\"#DejaVuSans-56\"/>\n      </g>\n     </g>\n    </g>\n    <g id=\"ytick_6\">\n     <g id=\"line2d_12\">\n      <g>\n       <use style=\"stroke:#000000;stroke-width:0.8;\" x=\"43.78125\" xlink:href=\"#m90e941138e\" y=\"17.083636\"/>\n      </g>\n     </g>\n     <g id=\"text_13\">\n      <!-- 1.0 -->\n      <g transform=\"translate(20.878125 20.882855)scale(0.1 -0.1)\">\n       <use xlink:href=\"#DejaVuSans-49\"/>\n       <use x=\"63.623047\" xlink:href=\"#DejaVuSans-46\"/>\n       <use x=\"95.410156\" xlink:href=\"#DejaVuSans-48\"/>\n      </g>\n     </g>\n    </g>\n    <g id=\"text_14\">\n     <!-- True Positive Rate -->\n     <g transform=\"translate(14.798438 160.449687)rotate(-90)scale(0.1 -0.1)\">\n      <defs>\n       <path d=\"M -0.296875 72.90625 \nL 61.375 72.90625 \nL 61.375 64.59375 \nL 35.5 64.59375 \nL 35.5 0 \nL 25.59375 0 \nL 25.59375 64.59375 \nL -0.296875 64.59375 \nz\n\" id=\"DejaVuSans-84\"/>\n       <path d=\"M 41.109375 46.296875 \nQ 39.59375 47.171875 37.8125 47.578125 \nQ 36.03125 48 33.890625 48 \nQ 26.265625 48 22.1875 43.046875 \nQ 18.109375 38.09375 18.109375 28.8125 \nL 18.109375 0 \nL 9.078125 0 \nL 9.078125 54.6875 \nL 18.109375 54.6875 \nL 18.109375 46.1875 \nQ 20.953125 51.171875 25.484375 53.578125 \nQ 30.03125 56 36.53125 56 \nQ 37.453125 56 38.578125 55.875 \nQ 39.703125 55.765625 41.0625 55.515625 \nz\n\" id=\"DejaVuSans-114\"/>\n       <path d=\"M 8.5 21.578125 \nL 8.5 54.6875 \nL 17.484375 54.6875 \nL 17.484375 21.921875 \nQ 17.484375 14.15625 20.5 10.265625 \nQ 23.53125 6.390625 29.59375 6.390625 \nQ 36.859375 6.390625 41.078125 11.03125 \nQ 45.3125 15.671875 45.3125 23.6875 \nL 45.3125 54.6875 \nL 54.296875 54.6875 \nL 54.296875 0 \nL 45.3125 0 \nL 45.3125 8.40625 \nQ 42.046875 3.421875 37.71875 1 \nQ 33.40625 -1.421875 27.6875 -1.421875 \nQ 18.265625 -1.421875 13.375 4.4375 \nQ 8.5 10.296875 8.5 21.578125 \nz\nM 31.109375 56 \nz\n\" id=\"DejaVuSans-117\"/>\n      </defs>\n      <use xlink:href=\"#DejaVuSans-84\"/>\n      <use x=\"46.333984\" xlink:href=\"#DejaVuSans-114\"/>\n      <use x=\"87.447266\" xlink:href=\"#DejaVuSans-117\"/>\n      <use x=\"150.826172\" xlink:href=\"#DejaVuSans-101\"/>\n      <use x=\"212.349609\" xlink:href=\"#DejaVuSans-32\"/>\n      <use x=\"244.136719\" xlink:href=\"#DejaVuSans-80\"/>\n      <use x=\"300.814453\" xlink:href=\"#DejaVuSans-111\"/>\n      <use x=\"361.996094\" xlink:href=\"#DejaVuSans-115\"/>\n      <use x=\"414.095703\" xlink:href=\"#DejaVuSans-105\"/>\n      <use x=\"441.878906\" xlink:href=\"#DejaVuSans-116\"/>\n      <use x=\"481.087891\" xlink:href=\"#DejaVuSans-105\"/>\n      <use x=\"508.871094\" xlink:href=\"#DejaVuSans-118\"/>\n      <use x=\"568.050781\" xlink:href=\"#DejaVuSans-101\"/>\n      <use x=\"629.574219\" xlink:href=\"#DejaVuSans-32\"/>\n      <use x=\"661.361328\" xlink:href=\"#DejaVuSans-82\"/>\n      <use x=\"728.59375\" xlink:href=\"#DejaVuSans-97\"/>\n      <use x=\"789.873047\" xlink:href=\"#DejaVuSans-116\"/>\n      <use x=\"829.082031\" xlink:href=\"#DejaVuSans-101\"/>\n     </g>\n    </g>\n   </g>\n   <g id=\"line2d_13\">\n    <path clip-path=\"url(#p694dc78191)\" d=\"M 58.999432 214.756364 \nL 59.013143 214.645498 \nL 59.115973 206.718634 \nL 60.089432 192.583315 \nL 60.103142 192.583315 \nL 60.103142 192.47245 \nL 60.199117 191.142067 \nL 60.205973 191.142067 \nL 60.603583 187.538947 \nL 60.637859 187.483514 \nL 60.747545 186.153131 \nL 60.939495 184.989046 \nL 61.021759 184.878181 \nL 61.083457 184.268422 \nL 61.871822 179.833812 \nL 61.981507 179.224053 \nL 61.995218 179.113188 \nL 62.104903 177.949103 \nL 62.200878 177.394777 \nL 62.324274 176.175259 \nL 62.420249 176.119827 \nL 62.571067 175.011174 \nL 63.057796 172.128678 \nL 63.249746 171.352621 \nL 63.284023 171.241756 \nL 64.915595 161.485615 \nL 65.038991 161.263884 \nL 65.1144 160.820423 \nL 65.861633 156.995572 \nL 65.923331 156.94014 \nL 66.115281 155.332594 \nL 66.327796 154.223941 \nL 66.327796 154.168509 \nL 66.341507 154.168509 \nL 66.547167 153.447885 \nL 67.205281 150.232793 \nL 67.266979 150.121927 \nL 67.445218 149.345871 \nL 67.835972 146.962268 \nL 67.98679 146.629672 \nL 68.075909 146.075346 \nL 68.082765 146.075346 \nL 68.110186 146.075346 \nL 68.213016 145.299289 \nL 68.288425 145.188424 \nL 68.370689 144.800396 \nL 68.377545 144.800396 \nL 68.528362 144.301502 \nL 68.740878 143.359148 \nL 68.864274 142.971119 \nL 68.97396 142.638523 \nL 69.042513 142.527658 \nL 69.097356 142.195062 \nL 69.104211 142.195062 \nL 69.892576 139.423431 \nL 69.97484 139.312566 \nL 70.057104 138.536509 \nL 70.070815 138.536509 \nL 70.159935 138.148481 \nL 71.640689 132.605219 \nL 71.647545 132.605219 \nL 71.784651 131.884595 \nL 72.031444 131.330269 \nL 72.05201 131.274836 \nL 72.189117 130.94224 \nL 72.291947 130.72051 \nL 72.408488 130.332482 \nL 72.573016 130.221616 \nL 72.854085 128.780368 \nL 72.881507 128.669503 \nL 73.114589 127.616283 \nL 73.169431 127.505418 \nL 73.553331 126.507631 \nL 73.663016 125.953304 \nL 73.73157 125.842439 \nL 73.800123 125.565276 \nL 74.033205 125.454411 \nL 74.184022 125.066383 \nL 74.355406 124.955517 \nL 74.52679 124.456624 \nL 74.615909 124.345758 \nL 74.725595 124.179461 \nL 74.794148 124.124028 \nL 74.986098 123.403404 \nL 75.02723 123.292539 \nL 75.13006 122.90451 \nL 75.246601 122.849078 \nL 75.411129 122.350184 \nL 75.685343 121.906723 \nL 75.781318 121.795858 \nL 76.02811 121.241532 \nL 76.281758 120.631773 \nL 76.576538 120.077447 \nL 76.699934 119.966581 \nL 76.795909 119.855716 \nL 77.111255 119.744851 \nL 77.268928 119.245957 \nL 77.563708 118.636198 \nL 77.714525 118.525333 \nL 77.769368 118.359035 \nL 77.803645 118.359035 \nL 78.228676 117.804709 \nL 78.358928 117.582979 \nL 78.413771 117.472113 \nL 78.468613 117.250383 \nL 78.50289 117.250383 \nL 78.763393 117.139518 \nL 78.818236 116.917787 \nL 78.866224 116.917787 \nL 79.311821 116.529759 \nL 79.373519 116.529759 \nL 79.476349 116.308028 \nL 79.777984 116.086298 \nL 80.203016 115.753702 \nL 80.717167 115.642837 \nL 80.78572 115.587404 \nL 80.943393 115.531972 \nL 81.101066 115.199376 \nL 81.58094 114.86678 \nL 81.930563 114.755915 \nL 81.96484 114.64505 \nL 82.026538 114.64505 \nL 82.225343 114.589617 \nL 82.355594 114.478752 \nL 82.526978 114.312454 \nL 83.089116 113.868993 \nL 83.171381 113.59183 \nL 83.308488 113.480965 \nL 83.726664 112.926638 \nL 85.221129 111.596256 \nL 85.330814 111.540823 \nL 85.666726 111.429958 \nL 85.851821 111.319092 \nL 86.153456 111.208227 \nL 86.290563 111.041929 \nL 86.434525 110.931064 \nL 86.503079 110.764766 \nL 87.298299 110.155007 \nL 87.51767 110.044142 \nL 87.6205 109.877844 \nL 88.511695 108.990922 \nL 88.772198 108.880057 \nL 89.060123 108.713759 \nL 89.231506 108.381164 \nL 89.553707 108.270298 \nL 89.731946 107.937703 \nL 89.999305 107.771405 \nL 90.773959 107.327944 \nL 90.965909 107.217078 \nL 91.308676 107.106213 \nL 91.377229 106.995348 \nL 91.87767 106.496454 \nL 92.398676 106.385589 \nL 92.549493 106.108426 \nL 92.844273 105.997561 \nL 92.871695 105.886696 \nL 93.564085 105.276937 \nL 93.708047 105.166071 \nL 93.783456 104.944341 \nL 94.037103 104.833476 \nL 94.359305 104.722611 \nL 94.523833 104.27915 \nL 94.606097 104.27915 \nL 95.702952 103.44766 \nL 96.025154 103.336795 \nL 96.025154 103.281362 \nL 96.086852 103.281362 \nL 96.285657 102.948767 \nL 98.451946 101.729249 \nL 98.959242 101.618384 \nL 99.679053 100.89776 \nL 99.864147 100.786894 \nL 100.241191 100.509731 \nL 100.823896 100.398866 \nL 101.002135 100.232568 \nL 101.20094 100.121703 \nL 101.715091 99.899972 \nL 102.215531 99.789107 \nL 102.510311 99.456511 \nL 102.674839 99.345646 \nL 102.880499 99.290214 \nL 103.538613 99.179348 \nL 103.655153 99.123916 \nL 104.004776 99.068483 \nL 104.402386 98.735887 \nL 104.512072 98.625022 \nL 104.580625 98.56959 \nL 107.912323 97.460937 \nL 107.912323 97.405505 \nL 107.96031 97.405505 \nL 108.248235 97.350072 \nL 110.051191 96.352285 \nL 110.373392 95.964256 \nL 110.647606 95.908824 \nL 110.908109 95.687093 \nL 111.038361 95.576228 \nL 111.202889 95.465363 \nL 111.579933 95.354498 \nL 112.155782 95.021902 \nL 112.683644 94.911037 \nL 112.765908 94.855604 \nL 114.349493 94.190412 \nL 114.459178 94.13498 \nL 115.014461 94.024115 \nL 115.178989 93.746952 \nL 116.214147 93.248058 \nL 116.262134 93.248058 \nL 117.119052 92.638299 \nL 117.201316 92.582866 \nL 117.674335 92.361136 \nL 120.43704 90.919888 \nL 120.649555 90.809023 \nL 120.766096 90.75359 \nL 121.451631 90.698157 \nL 122.870687 89.811235 \nL 124.680499 89.201477 \nL 126.442322 88.259122 \nL 126.743958 88.203689 \nL 127.799681 87.704796 \nL 128.039618 87.649363 \nL 128.951379 86.984172 \nL 129.08163 86.817874 \nL 129.410687 86.707009 \nL 129.938549 86.540711 \nL 131.398737 85.432058 \nL 131.693517 85.321193 \nL 131.823769 85.26576 \nL 132.584712 84.766867 \nL 134.086033 83.824512 \nL 134.511064 83.713647 \nL 134.641316 83.491917 \nL 135.066347 83.381051 \nL 136.965278 82.549562 \nL 137.116096 82.494129 \nL 138.048423 81.773505 \nL 139.625152 80.60942 \nL 140.48207 80.443122 \nL 140.927668 80.110527 \nL 141.064775 79.999661 \nL 141.17446 79.944229 \nL 141.846284 79.833364 \nL 143.525844 78.835576 \nL 143.806913 78.724711 \nL 143.985152 78.447548 \nL 144.033139 78.447548 \nL 144.190812 78.170385 \nL 144.519869 78.05952 \nL 144.602133 78.004087 \nL 146.041756 77.117165 \nL 146.219995 76.729137 \nL 146.542196 76.729137 \nL 150.285215 75.620484 \nL 150.819932 75.287889 \nL 151.032447 75.232456 \nL 151.669994 74.955293 \nL 152.300686 74.400967 \nL 152.588611 74.345534 \nL 152.999931 74.234669 \nL 153.56207 73.84664 \nL 153.884271 73.735775 \nL 154.323013 73.514045 \nL 154.66578 73.40318 \nL 154.987982 73.292314 \nL 155.783202 73.181449 \nL 155.961441 73.126016 \nL 156.304208 72.904286 \nL 157.503894 72.627123 \nL 157.517604 72.57169 \nL 158.874963 71.961931 \nL 159.02578 71.795634 \nL 159.279428 71.740201 \nL 159.395969 71.573903 \nL 159.71817 71.463038 \nL 161.034397 71.130442 \nL 161.507415 71.019577 \nL 161.733642 70.853279 \nL 162.042132 70.520683 \nL 162.460308 70.409818 \nL 162.755088 70.132655 \nL 163.029302 69.855492 \nL 165.147604 69.079435 \nL 166.148484 68.96857 \nL 166.717478 68.857705 \nL 166.957415 68.857705 \nL 167.663516 68.635974 \nL 168.397038 68.247946 \nL 168.678107 67.970783 \nL 169.020874 67.91535 \nL 170.241126 67.638187 \nL 172.434836 66.695832 \nL 172.729616 66.584967 \nL 172.907855 66.529534 \nL 172.935277 66.529534 \nL 174.28578 66.196939 \nL 176.246409 64.977421 \nL 176.952509 64.31223 \nL 176.973075 64.31223 \nL 178.357855 63.757903 \nL 178.446975 63.702471 \nL 179.077666 63.425308 \nL 179.45471 63.25901 \nL 179.955151 62.981847 \nL 180.435025 62.870981 \nL 180.54471 62.704684 \nL 181.250811 62.593818 \nL 183.90383 61.762329 \nL 186.488295 60.709109 \nL 186.961314 60.487379 \nL 187.070999 60.321081 \nL 187.262949 60.265648 \nL 188.051314 60.154783 \nL 189.086471 59.822187 \nL 189.203012 59.766755 \nL 189.250999 59.711322 \nL 189.874836 59.600457 \nL 190.107917 59.489592 \nL 190.217603 59.323294 \nL 190.786597 59.212428 \nL 191.849175 58.768968 \nL 192.082257 58.713535 \nL 192.082257 58.60267 \nL 192.164521 58.60267 \nL 192.294773 58.547237 \nL 193.03515 58.436372 \nL 195.187729 58.048343 \nL 195.269993 57.992911 \nL 195.379678 57.826613 \nL 196.428546 57.272287 \nL 197.785905 56.995124 \nL 197.820181 56.995124 \nL 199.794521 56.329932 \nL 200.685716 56.219067 \nL 200.877665 56.052769 \nL 201.384961 55.941904 \nL 203.7432 54.666954 \nL 205.395338 54.001762 \nL 205.566722 53.890897 \nL 206.252256 53.613734 \nL 207.883829 53.059408 \nL 207.883829 53.003975 \nL 207.952382 53.003975 \nL 208.836722 52.948542 \nL 210.248923 52.06162 \nL 210.338042 52.06162 \nL 211.489741 51.507294 \nL 212.312382 51.396429 \nL 212.312382 51.340996 \nL 212.326093 51.340996 \nL 213.25842 50.897535 \nL 216.055401 50.176911 \nL 216.569552 50.066046 \nL 217.289363 49.844316 \nL 217.981753 49.73345 \nL 218.112004 49.622585 \nL 218.591879 49.51172 \nL 218.756407 49.456287 \nL 218.948357 49.345422 \nL 219.441942 48.68023 \nL 220.079489 48.569365 \nL 220.394835 48.347635 \nL 220.614206 48.347635 \nL 221.964709 47.627011 \nL 222.993011 46.961819 \nL 223.486595 46.961819 \nL 224.837099 46.35206 \nL 227.167916 45.797734 \nL 227.387287 45.686869 \nL 228.504708 45.07711 \nL 229.368482 44.744514 \nL 229.464457 44.744514 \nL 231.665023 43.746727 \nL 231.959803 43.580429 \nL 232.4054 43.414131 \nL 232.960683 43.358699 \nL 233.001815 43.247834 \nL 233.543388 43.026103 \nL 234.571689 42.915238 \nL 234.804771 42.582642 \nL 235.510872 42.52721 \nL 236.991626 42.083749 \nL 237.300117 41.806585 \nL 237.574331 41.640288 \nL 237.725148 41.47399 \nL 237.793702 41.47399 \nL 239.013953 41.085961 \nL 239.877727 40.975096 \nL 240.645526 40.531635 \nL 240.700368 40.476203 \nL 241.516155 40.254472 \nL 242.277098 39.921876 \nL 242.894079 39.755578 \nL 243.01062 39.644713 \nL 243.236846 39.644713 \nL 244.217161 39.256685 \nL 244.258293 39.256685 \nL 244.258293 39.090387 \nL 244.333702 39.090387 \nL 244.710746 39.034954 \nL 244.710746 38.979522 \nL 246.925022 38.258898 \nL 247.110117 38.148032 \nL 248.542884 38.037167 \nL 249.290116 37.760004 \nL 249.290116 37.704571 \nL 249.344959 37.704571 \nL 250.201877 37.316543 \nL 253.574708 36.540486 \nL 253.643261 36.429621 \nL 254.260242 36.097025 \nL 255.905525 35.653564 \nL 257.228607 35.265536 \nL 257.28345 35.099238 \nL 257.742758 34.988373 \nL 257.804456 34.877508 \nL 258.757349 34.766643 \nL 259.072695 34.600345 \nL 259.785651 34.489479 \nL 260.025588 34.434047 \nL 260.251814 34.434047 \nL 262.123324 33.990586 \nL 262.534644 33.824288 \nL 264.193638 33.214529 \nL 264.460996 32.992799 \nL 265.715525 32.881933 \nL 265.948606 32.771068 \nL 267.333386 32.660203 \nL 267.580179 32.493905 \nL 268.320556 32.38304 \nL 268.423386 32.161309 \nL 268.49194 32.161309 \nL 268.971814 31.939579 \nL 269.664204 31.828714 \nL 269.739613 31.717848 \nL 269.746468 31.717848 \nL 270.301751 31.606983 \nL 270.384015 31.551551 \nL 271.17238 31.440685 \nL 271.295776 31.385253 \nL 271.398606 31.385253 \nL 272.612002 30.997224 \nL 273.194707 30.886359 \nL 273.270116 30.830926 \nL 275.299298 30.720061 \nL 275.44326 30.609196 \nL 275.683197 30.553763 \nL 275.84087 30.442898 \nL 276.080807 30.332033 \nL 276.094518 30.221168 \nL 276.190493 30.221168 \nL 276.259046 30.110302 \nL 277.4176 29.944004 \nL 277.876908 29.888572 \nL 278.308795 29.334246 \nL 278.877788 29.22338 \nL 279.186279 28.946217 \nL 280.194015 28.835352 \nL 280.351688 28.779919 \nL 280.810996 28.669054 \nL 280.934392 28.613622 \nL 281.935272 28.558189 \nL 282.552254 28.447324 \nL 282.757914 28.281026 \nL 282.956719 28.170161 \nL 285.719423 27.892998 \nL 286.624329 27.615834 \nL 287.522379 27.615834 \nL 288.420429 27.449537 \nL 289.428165 27.338671 \nL 291.491624 26.89521 \nL 291.642442 26.839778 \nL 292.951813 26.562615 \nL 293.219171 26.451749 \nL 293.267159 26.396317 \nL 293.644203 26.396317 \nL 295.885901 25.952856 \nL 296.37263 25.841991 \nL 297.215838 25.786558 \nL 298.024769 25.675693 \nL 298.065901 25.62026 \nL 301.143951 25.121366 \nL 301.712945 24.899636 \nL 303.022316 24.622473 \nL 303.186844 24.511608 \nL 305.476529 24.400742 \nL 305.599926 24.289877 \nL 305.716467 24.179012 \nL 305.819297 24.123579 \nL 307.786781 23.735551 \nL 307.985586 23.680118 \nL 308.911058 23.569253 \nL 308.911058 23.458388 \nL 309.013888 23.458388 \nL 310.535775 23.402955 \nL 312.571812 23.29209 \nL 312.955712 23.236657 \nL 319.372315 22.571466 \nL 319.434013 22.460601 \nL 320.236089 22.349735 \nL 321.243824 22.23887 \nL 321.291812 22.183438 \nL 322.258416 22.072572 \nL 322.875397 22.01714 \nL 323.499233 21.906274 \nL 324.712629 21.795409 \nL 324.746906 21.684544 \nL 324.767472 21.684544 \nL 327.530176 21.130218 \nL 331.595396 21.019352 \nL 331.643384 20.908487 \nL 332.973321 20.797622 \nL 333.083006 20.686757 \nL 333.261245 20.631324 \nL 336.373572 20.520459 \nL 336.42156 20.465026 \nL 336.963132 20.409594 \nL 338.11483 20.298728 \nL 338.11483 20.243296 \nL 338.183384 20.243296 \nL 340.08917 20.132431 \nL 340.116591 20.076998 \nL 341.850994 19.966133 \nL 341.933258 19.9107 \nL 343.66766 19.799835 \nL 343.66766 19.744402 \nL 343.715648 19.744402 \nL 344.435459 19.633537 \nL 344.504012 19.522672 \nL 344.538289 19.522672 \nL 345.408918 19.411806 \nL 346.546905 19.245509 \nL 347.191308 19.134643 \nL 347.191308 19.023778 \nL 347.280427 19.023778 \nL 349.30961 18.912913 \nL 349.419295 18.85748 \nL 351.825521 18.746615 \nL 351.955773 18.691182 \nL 352.421937 18.580317 \nL 354.800741 18.358587 \nL 355.308037 18.247721 \nL 355.308037 18.192289 \nL 355.410867 18.192289 \nL 356.26093 18.081424 \nL 356.26093 18.025991 \nL 356.36376 18.025991 \nL 358.413509 17.915126 \nL 358.488917 17.859693 \nL 360.319295 17.748828 \nL 360.456402 17.693395 \nL 361.697219 17.58253 \nL 361.793194 17.416232 \nL 362.081119 17.305367 \nL 362.156527 17.249934 \nL 362.71181 17.139069 \nL 363.363068 17.083636 \nL 363.363068 17.083636 \n\" style=\"fill:none;stroke:#1f77b4;stroke-linecap:square;stroke-width:1.5;\"/>\n   </g>\n   <g id=\"patch_3\">\n    <path d=\"M 43.78125 224.64 \nL 43.78125 7.2 \n\" style=\"fill:none;stroke:#000000;stroke-linecap:square;stroke-linejoin:miter;stroke-width:0.8;\"/>\n   </g>\n   <g id=\"patch_4\">\n    <path d=\"M 378.58125 224.64 \nL 378.58125 7.2 \n\" style=\"fill:none;stroke:#000000;stroke-linecap:square;stroke-linejoin:miter;stroke-width:0.8;\"/>\n   </g>\n   <g id=\"patch_5\">\n    <path d=\"M 43.78125 224.64 \nL 378.58125 224.64 \n\" style=\"fill:none;stroke:#000000;stroke-linecap:square;stroke-linejoin:miter;stroke-width:0.8;\"/>\n   </g>\n   <g id=\"patch_6\">\n    <path d=\"M 43.78125 7.2 \nL 378.58125 7.2 \n\" style=\"fill:none;stroke:#000000;stroke-linecap:square;stroke-linejoin:miter;stroke-width:0.8;\"/>\n   </g>\n   <g id=\"legend_1\">\n    <g id=\"patch_7\">\n     <path d=\"M 137.590625 219.64 \nL 371.58125 219.64 \nQ 373.58125 219.64 373.58125 217.64 \nL 373.58125 203.961875 \nQ 373.58125 201.961875 371.58125 201.961875 \nL 137.590625 201.961875 \nQ 135.590625 201.961875 135.590625 203.961875 \nL 135.590625 217.64 \nQ 135.590625 219.64 137.590625 219.64 \nz\n\" style=\"fill:#ffffff;opacity:0.8;stroke:#cccccc;stroke-linejoin:miter;\"/>\n    </g>\n    <g id=\"line2d_14\">\n     <path d=\"M 139.590625 210.060312 \nL 159.590625 210.060312 \n\" style=\"fill:none;stroke:#1f77b4;stroke-linecap:square;stroke-width:1.5;\"/>\n    </g>\n    <g id=\"line2d_15\"/>\n    <g id=\"text_15\">\n     <!-- GradientBoostingClassifier (AUC = 0.79) -->\n     <g transform=\"translate(167.590625 213.560312)scale(0.1 -0.1)\">\n      <defs>\n       <path d=\"M 59.515625 10.40625 \nL 59.515625 29.984375 \nL 43.40625 29.984375 \nL 43.40625 38.09375 \nL 69.28125 38.09375 \nL 69.28125 6.78125 \nQ 63.578125 2.734375 56.6875 0.65625 \nQ 49.8125 -1.421875 42 -1.421875 \nQ 24.90625 -1.421875 15.25 8.5625 \nQ 5.609375 18.5625 5.609375 36.375 \nQ 5.609375 54.25 15.25 64.234375 \nQ 24.90625 74.21875 42 74.21875 \nQ 49.125 74.21875 55.546875 72.453125 \nQ 61.96875 70.703125 67.390625 67.28125 \nL 67.390625 56.78125 \nQ 61.921875 61.421875 55.765625 63.765625 \nQ 49.609375 66.109375 42.828125 66.109375 \nQ 29.4375 66.109375 22.71875 58.640625 \nQ 16.015625 51.171875 16.015625 36.375 \nQ 16.015625 21.625 22.71875 14.15625 \nQ 29.4375 6.6875 42.828125 6.6875 \nQ 48.046875 6.6875 52.140625 7.59375 \nQ 56.25 8.5 59.515625 10.40625 \nz\n\" id=\"DejaVuSans-71\"/>\n       <path d=\"M 45.40625 46.390625 \nL 45.40625 75.984375 \nL 54.390625 75.984375 \nL 54.390625 0 \nL 45.40625 0 \nL 45.40625 8.203125 \nQ 42.578125 3.328125 38.25 0.953125 \nQ 33.9375 -1.421875 27.875 -1.421875 \nQ 17.96875 -1.421875 11.734375 6.484375 \nQ 5.515625 14.40625 5.515625 27.296875 \nQ 5.515625 40.1875 11.734375 48.09375 \nQ 17.96875 56 27.875 56 \nQ 33.9375 56 38.25 53.625 \nQ 42.578125 51.265625 45.40625 46.390625 \nz\nM 14.796875 27.296875 \nQ 14.796875 17.390625 18.875 11.75 \nQ 22.953125 6.109375 30.078125 6.109375 \nQ 37.203125 6.109375 41.296875 11.75 \nQ 45.40625 17.390625 45.40625 27.296875 \nQ 45.40625 37.203125 41.296875 42.84375 \nQ 37.203125 48.484375 30.078125 48.484375 \nQ 22.953125 48.484375 18.875 42.84375 \nQ 14.796875 37.203125 14.796875 27.296875 \nz\n\" id=\"DejaVuSans-100\"/>\n       <path d=\"M 54.890625 33.015625 \nL 54.890625 0 \nL 45.90625 0 \nL 45.90625 32.71875 \nQ 45.90625 40.484375 42.875 44.328125 \nQ 39.84375 48.1875 33.796875 48.1875 \nQ 26.515625 48.1875 22.3125 43.546875 \nQ 18.109375 38.921875 18.109375 30.90625 \nL 18.109375 0 \nL 9.078125 0 \nL 9.078125 54.6875 \nL 18.109375 54.6875 \nL 18.109375 46.1875 \nQ 21.34375 51.125 25.703125 53.5625 \nQ 30.078125 56 35.796875 56 \nQ 45.21875 56 50.046875 50.171875 \nQ 54.890625 44.34375 54.890625 33.015625 \nz\n\" id=\"DejaVuSans-110\"/>\n       <path d=\"M 19.671875 34.8125 \nL 19.671875 8.109375 \nL 35.5 8.109375 \nQ 43.453125 8.109375 47.28125 11.40625 \nQ 51.125 14.703125 51.125 21.484375 \nQ 51.125 28.328125 47.28125 31.5625 \nQ 43.453125 34.8125 35.5 34.8125 \nz\nM 19.671875 64.796875 \nL 19.671875 42.828125 \nL 34.28125 42.828125 \nQ 41.5 42.828125 45.03125 45.53125 \nQ 48.578125 48.25 48.578125 53.8125 \nQ 48.578125 59.328125 45.03125 62.0625 \nQ 41.5 64.796875 34.28125 64.796875 \nz\nM 9.8125 72.90625 \nL 35.015625 72.90625 \nQ 46.296875 72.90625 52.390625 68.21875 \nQ 58.5 63.53125 58.5 54.890625 \nQ 58.5 48.1875 55.375 44.234375 \nQ 52.25 40.28125 46.1875 39.3125 \nQ 53.46875 37.75 57.5 32.78125 \nQ 61.53125 27.828125 61.53125 20.40625 \nQ 61.53125 10.640625 54.890625 5.3125 \nQ 48.25 0 35.984375 0 \nL 9.8125 0 \nz\n\" id=\"DejaVuSans-66\"/>\n       <path d=\"M 45.40625 27.984375 \nQ 45.40625 37.75 41.375 43.109375 \nQ 37.359375 48.484375 30.078125 48.484375 \nQ 22.859375 48.484375 18.828125 43.109375 \nQ 14.796875 37.75 14.796875 27.984375 \nQ 14.796875 18.265625 18.828125 12.890625 \nQ 22.859375 7.515625 30.078125 7.515625 \nQ 37.359375 7.515625 41.375 12.890625 \nQ 45.40625 18.265625 45.40625 27.984375 \nz\nM 54.390625 6.78125 \nQ 54.390625 -7.171875 48.1875 -13.984375 \nQ 42 -20.796875 29.203125 -20.796875 \nQ 24.46875 -20.796875 20.265625 -20.09375 \nQ 16.0625 -19.390625 12.109375 -17.921875 \nL 12.109375 -9.1875 \nQ 16.0625 -11.328125 19.921875 -12.34375 \nQ 23.78125 -13.375 27.78125 -13.375 \nQ 36.625 -13.375 41.015625 -8.765625 \nQ 45.40625 -4.15625 45.40625 5.171875 \nL 45.40625 9.625 \nQ 42.625 4.78125 38.28125 2.390625 \nQ 33.9375 0 27.875 0 \nQ 17.828125 0 11.671875 7.65625 \nQ 5.515625 15.328125 5.515625 27.984375 \nQ 5.515625 40.671875 11.671875 48.328125 \nQ 17.828125 56 27.875 56 \nQ 33.9375 56 38.28125 53.609375 \nQ 42.625 51.21875 45.40625 46.390625 \nL 45.40625 54.6875 \nL 54.390625 54.6875 \nz\n\" id=\"DejaVuSans-103\"/>\n       <path d=\"M 64.40625 67.28125 \nL 64.40625 56.890625 \nQ 59.421875 61.53125 53.78125 63.8125 \nQ 48.140625 66.109375 41.796875 66.109375 \nQ 29.296875 66.109375 22.65625 58.46875 \nQ 16.015625 50.828125 16.015625 36.375 \nQ 16.015625 21.96875 22.65625 14.328125 \nQ 29.296875 6.6875 41.796875 6.6875 \nQ 48.140625 6.6875 53.78125 8.984375 \nQ 59.421875 11.28125 64.40625 15.921875 \nL 64.40625 5.609375 \nQ 59.234375 2.09375 53.4375 0.328125 \nQ 47.65625 -1.421875 41.21875 -1.421875 \nQ 24.65625 -1.421875 15.125 8.703125 \nQ 5.609375 18.84375 5.609375 36.375 \nQ 5.609375 53.953125 15.125 64.078125 \nQ 24.65625 74.21875 41.21875 74.21875 \nQ 47.75 74.21875 53.53125 72.484375 \nQ 59.328125 70.75 64.40625 67.28125 \nz\n\" id=\"DejaVuSans-67\"/>\n       <path d=\"M 37.109375 75.984375 \nL 37.109375 68.5 \nL 28.515625 68.5 \nQ 23.6875 68.5 21.796875 66.546875 \nQ 19.921875 64.59375 19.921875 59.515625 \nL 19.921875 54.6875 \nL 34.71875 54.6875 \nL 34.71875 47.703125 \nL 19.921875 47.703125 \nL 19.921875 0 \nL 10.890625 0 \nL 10.890625 47.703125 \nL 2.296875 47.703125 \nL 2.296875 54.6875 \nL 10.890625 54.6875 \nL 10.890625 58.5 \nQ 10.890625 67.625 15.140625 71.796875 \nQ 19.390625 75.984375 28.609375 75.984375 \nz\n\" id=\"DejaVuSans-102\"/>\n       <path d=\"M 31 75.875 \nQ 24.46875 64.65625 21.28125 53.65625 \nQ 18.109375 42.671875 18.109375 31.390625 \nQ 18.109375 20.125 21.3125 9.0625 \nQ 24.515625 -2 31 -13.1875 \nL 23.1875 -13.1875 \nQ 15.875 -1.703125 12.234375 9.375 \nQ 8.59375 20.453125 8.59375 31.390625 \nQ 8.59375 42.28125 12.203125 53.3125 \nQ 15.828125 64.359375 23.1875 75.875 \nz\n\" id=\"DejaVuSans-40\"/>\n       <path d=\"M 34.1875 63.1875 \nL 20.796875 26.90625 \nL 47.609375 26.90625 \nz\nM 28.609375 72.90625 \nL 39.796875 72.90625 \nL 67.578125 0 \nL 57.328125 0 \nL 50.6875 18.703125 \nL 17.828125 18.703125 \nL 11.1875 0 \nL 0.78125 0 \nz\n\" id=\"DejaVuSans-65\"/>\n       <path d=\"M 8.6875 72.90625 \nL 18.609375 72.90625 \nL 18.609375 28.609375 \nQ 18.609375 16.890625 22.84375 11.734375 \nQ 27.09375 6.59375 36.625 6.59375 \nQ 46.09375 6.59375 50.34375 11.734375 \nQ 54.59375 16.890625 54.59375 28.609375 \nL 54.59375 72.90625 \nL 64.5 72.90625 \nL 64.5 27.390625 \nQ 64.5 13.140625 57.4375 5.859375 \nQ 50.390625 -1.421875 36.625 -1.421875 \nQ 22.796875 -1.421875 15.734375 5.859375 \nQ 8.6875 13.140625 8.6875 27.390625 \nz\n\" id=\"DejaVuSans-85\"/>\n       <path d=\"M 10.59375 45.40625 \nL 73.1875 45.40625 \nL 73.1875 37.203125 \nL 10.59375 37.203125 \nz\nM 10.59375 25.484375 \nL 73.1875 25.484375 \nL 73.1875 17.1875 \nL 10.59375 17.1875 \nz\n\" id=\"DejaVuSans-61\"/>\n       <path d=\"M 8.203125 72.90625 \nL 55.078125 72.90625 \nL 55.078125 68.703125 \nL 28.609375 0 \nL 18.3125 0 \nL 43.21875 64.59375 \nL 8.203125 64.59375 \nz\n\" id=\"DejaVuSans-55\"/>\n       <path d=\"M 10.984375 1.515625 \nL 10.984375 10.5 \nQ 14.703125 8.734375 18.5 7.8125 \nQ 22.3125 6.890625 25.984375 6.890625 \nQ 35.75 6.890625 40.890625 13.453125 \nQ 46.046875 20.015625 46.78125 33.40625 \nQ 43.953125 29.203125 39.59375 26.953125 \nQ 35.25 24.703125 29.984375 24.703125 \nQ 19.046875 24.703125 12.671875 31.3125 \nQ 6.296875 37.9375 6.296875 49.421875 \nQ 6.296875 60.640625 12.9375 67.421875 \nQ 19.578125 74.21875 30.609375 74.21875 \nQ 43.265625 74.21875 49.921875 64.515625 \nQ 56.59375 54.828125 56.59375 36.375 \nQ 56.59375 19.140625 48.40625 8.859375 \nQ 40.234375 -1.421875 26.421875 -1.421875 \nQ 22.703125 -1.421875 18.890625 -0.6875 \nQ 15.09375 0.046875 10.984375 1.515625 \nz\nM 30.609375 32.421875 \nQ 37.25 32.421875 41.125 36.953125 \nQ 45.015625 41.5 45.015625 49.421875 \nQ 45.015625 57.28125 41.125 61.84375 \nQ 37.25 66.40625 30.609375 66.40625 \nQ 23.96875 66.40625 20.09375 61.84375 \nQ 16.21875 57.28125 16.21875 49.421875 \nQ 16.21875 41.5 20.09375 36.953125 \nQ 23.96875 32.421875 30.609375 32.421875 \nz\n\" id=\"DejaVuSans-57\"/>\n       <path d=\"M 8.015625 75.875 \nL 15.828125 75.875 \nQ 23.140625 64.359375 26.78125 53.3125 \nQ 30.421875 42.28125 30.421875 31.390625 \nQ 30.421875 20.453125 26.78125 9.375 \nQ 23.140625 -1.703125 15.828125 -13.1875 \nL 8.015625 -13.1875 \nQ 14.5 -2 17.703125 9.0625 \nQ 20.90625 20.125 20.90625 31.390625 \nQ 20.90625 42.671875 17.703125 53.65625 \nQ 14.5 64.65625 8.015625 75.875 \nz\n\" id=\"DejaVuSans-41\"/>\n      </defs>\n      <use xlink:href=\"#DejaVuSans-71\"/>\n      <use x=\"77.490234\" xlink:href=\"#DejaVuSans-114\"/>\n      <use x=\"118.603516\" xlink:href=\"#DejaVuSans-97\"/>\n      <use x=\"179.882812\" xlink:href=\"#DejaVuSans-100\"/>\n      <use x=\"243.359375\" xlink:href=\"#DejaVuSans-105\"/>\n      <use x=\"271.142578\" xlink:href=\"#DejaVuSans-101\"/>\n      <use x=\"332.666016\" xlink:href=\"#DejaVuSans-110\"/>\n      <use x=\"396.044922\" xlink:href=\"#DejaVuSans-116\"/>\n      <use x=\"435.253906\" xlink:href=\"#DejaVuSans-66\"/>\n      <use x=\"503.857422\" xlink:href=\"#DejaVuSans-111\"/>\n      <use x=\"565.039062\" xlink:href=\"#DejaVuSans-111\"/>\n      <use x=\"626.220703\" xlink:href=\"#DejaVuSans-115\"/>\n      <use x=\"678.320312\" xlink:href=\"#DejaVuSans-116\"/>\n      <use x=\"717.529297\" xlink:href=\"#DejaVuSans-105\"/>\n      <use x=\"745.3125\" xlink:href=\"#DejaVuSans-110\"/>\n      <use x=\"808.691406\" xlink:href=\"#DejaVuSans-103\"/>\n      <use x=\"872.167969\" xlink:href=\"#DejaVuSans-67\"/>\n      <use x=\"941.992188\" xlink:href=\"#DejaVuSans-108\"/>\n      <use x=\"969.775391\" xlink:href=\"#DejaVuSans-97\"/>\n      <use x=\"1031.054688\" xlink:href=\"#DejaVuSans-115\"/>\n      <use x=\"1083.154297\" xlink:href=\"#DejaVuSans-115\"/>\n      <use x=\"1135.253906\" xlink:href=\"#DejaVuSans-105\"/>\n      <use x=\"1163.037109\" xlink:href=\"#DejaVuSans-102\"/>\n      <use x=\"1198.242188\" xlink:href=\"#DejaVuSans-105\"/>\n      <use x=\"1226.025391\" xlink:href=\"#DejaVuSans-101\"/>\n      <use x=\"1287.548828\" xlink:href=\"#DejaVuSans-114\"/>\n      <use x=\"1328.662109\" xlink:href=\"#DejaVuSans-32\"/>\n      <use x=\"1360.449219\" xlink:href=\"#DejaVuSans-40\"/>\n      <use x=\"1399.462891\" xlink:href=\"#DejaVuSans-65\"/>\n      <use x=\"1467.871094\" xlink:href=\"#DejaVuSans-85\"/>\n      <use x=\"1541.064453\" xlink:href=\"#DejaVuSans-67\"/>\n      <use x=\"1610.888672\" xlink:href=\"#DejaVuSans-32\"/>\n      <use x=\"1642.675781\" xlink:href=\"#DejaVuSans-61\"/>\n      <use x=\"1726.464844\" xlink:href=\"#DejaVuSans-32\"/>\n      <use x=\"1758.251953\" xlink:href=\"#DejaVuSans-48\"/>\n      <use x=\"1821.875\" xlink:href=\"#DejaVuSans-46\"/>\n      <use x=\"1853.662109\" xlink:href=\"#DejaVuSans-55\"/>\n      <use x=\"1917.285156\" xlink:href=\"#DejaVuSans-57\"/>\n      <use x=\"1980.908203\" xlink:href=\"#DejaVuSans-41\"/>\n     </g>\n    </g>\n   </g>\n  </g>\n </g>\n <defs>\n  <clipPath id=\"p694dc78191\">\n   <rect height=\"217.44\" width=\"334.8\" x=\"43.78125\" y=\"7.2\"/>\n  </clipPath>\n </defs>\n</svg>\n",
      "image/png": "[encoded data removed]"
     },
     "metadata": {
      "needs_background": "light"
     }
    }
   ],
   "source": [
    "from sklearn.metrics import plot_roc_curve\n",
    "plot_roc_curve(clf, X_test, y_test)"
   ]
  },
  {
   "cell_type": "code",
   "execution_count": 124,
   "metadata": {},
   "outputs": [
    {
     "output_type": "execute_result",
     "data": {
      "text/plain": [
       "ticket_id\n",
       "284932    0.073359\n",
       "285362    0.014829\n",
       "285361    0.070017\n",
       "285338    0.117436\n",
       "285346    0.100747\n",
       "            ...   \n",
       "376496    0.002774\n",
       "376497    0.002774\n",
       "376499    0.065313\n",
       "376500    0.065313\n",
       "369851    0.220443\n",
       "Name: compliance, Length: 61001, dtype: float64"
      ]
     },
     "metadata": {},
     "execution_count": 124
    }
   ],
   "source": [
    "# getting the assingment probabilities\n",
    "x_final = feature_processing(df_test)\n",
    "proba = clf.predict_proba(x_final)[:,1]\n",
    "x_final['compliance'] = proba\n",
    "x_final.compliance # value to return"
   ]
  },
  {
   "cell_type": "code",
   "execution_count": 125,
   "metadata": {},
   "outputs": [],
   "source": [
    "# final function test\n",
    "def blight_model():\n",
    "    # Importing instances\n",
    "    # import instances and data\n",
    "    import pandas as pd\n",
    "    import pandas_profiling\n",
    "    import numpy as np\n",
    "    import matplotlib as plt\n",
    "    from sklearn.metrics import auc\n",
    "    from sklearn.model_selection import train_test_split\n",
    "    from sklearn.ensemble import GradientBoostingClassifier\n",
    "    # loading train and test DF\n",
    "    df_train = pd.read_csv('readonly/train.csv', encoding='latin', low_memory=False)\n",
    "    df_test = pd.read_csv('readonly/test.csv')\n",
    "    # removing unused features\n",
    "    useless_both = ['clean_up_cost', 'inspector_name','discount_amount','grafitti_status',                         'violator_name', 'zip_code','violation_description','violation_zip_code', 'disposition', 'non_us_str_code',\n",
    "                'fine_amount','admin_fee', 'state_fee','late_fee','violation_street_number',\n",
    "                'violation_street_name','mailing_address_str_number','mailing_address_str_name','country']\n",
    "\n",
    "    useless_train =  ['collection_status',  'payment_amount','payment_date','payment_status', 'compliance_detail',              'balance_due']\n",
    "\n",
    "    # droping useless features\n",
    "    train_df = df_train.drop(columns=useless_train).dropna(subset=['compliance']).set_index('ticket_id')\n",
    "    train_df.drop(columns=useless_both, inplace=True)\n",
    "    df_test.drop(columns=useless_both, inplace=True)\n",
    "    df_test.set_index('ticket_id', inplace=True)\n",
    "\n",
    "    # replacing dicts\n",
    "    repl_city = {'other':1, \n",
    "                'DETROIT': 2, \n",
    "                'DEARBORN': 3, \n",
    "                'SOUTHFIELD':4, \n",
    "                'FARMINGTON HILLS':5}\n",
    "    repl_agency = {'Buildings, Safety Engineering & Env Department': 0,\n",
    "                'Health Department':1, \n",
    "                'Department of Public Works':2,\n",
    "                'Detroit Police Department':3, \n",
    "                'Neighborhood City Halls':4}\n",
    "    repl_vcode = {'9-1-36(a)':0, \n",
    "                'other':1, \n",
    "                '22-2-88':2,\n",
    "                '9-1-104':3, \n",
    "                '9-1-81(a)':4}\n",
    "\n",
    "    # encoding function\n",
    "    def group_encoding(code, code_list):\n",
    "        # check if code is in most frequent, if not replace with 'other'\n",
    "        if code not in code_list:\n",
    "            code = 'other'\n",
    "        return code\n",
    "\n",
    "\n",
    "    # feature processing function\n",
    "    def feature_processing(df):\n",
    "        # Adding days since issued ticket feature\n",
    "        df['days_since'] = (pd.to_datetime(df  ['hearing_date'])-pd.to_datetime(df['ticket_issued_date'])).dt.days\n",
    "        #dopping used collumns\n",
    "        df = df.drop(columns=['hearing_date','ticket_issued_date'])\n",
    "\n",
    "        # city str uniformization\n",
    "        df['city'] = df['city'].str.upper()\n",
    "        \n",
    "        # Encoding features to most frequent groups\n",
    "        # Grouping to encode\n",
    "        violation_cat = ['9-1-36(a)', '9-1-81(a)', '22-2-88', '9-1-104']\n",
    "        cities_code = ['DETROIT', 'SOUTHFIELD', 'DEARBORN', 'FARMINGTON HILLS']\n",
    "\n",
    "        # Applying encodig funtion to features\n",
    "        df['violation_code'] = df['violation_code'].apply(group_encoding, code_list= violation_cat)\n",
    "        df['city'] = df['city'].apply(group_encoding, code_list = cities_code)\n",
    "\n",
    "        # encoding states to be onli MI or others\n",
    "        df.loc[df['state'] != 'MI', 'state'] = 0\n",
    "        df.loc[df['state'] == 'MI', 'state'] = 1\n",
    "        # replacing negative days since value with the median\n",
    "        df.loc[df['days_since'] < 0, 'days_since'] = df.days_since.median()\n",
    "        df.days_since = df.days_since.fillna(value=54.)\n",
    "\n",
    "        # Final encoding of features\n",
    "        df.city = df.city.replace(repl_city)\n",
    "        df.agency_name = df.agency_name.replace(repl_agency)\n",
    "        df.violation_code = df.violation_code.replace(repl_vcode)\n",
    "\n",
    "        return df\n",
    "    \n",
    "    # training sets\n",
    "    X = feature_processing(train_df).drop(columns='compliance')\n",
    "    y = feature_processing(train_df)['compliance']\n",
    "    # Starting the model building\n",
    "    # train and test sets\n",
    "    X_train, X_test, y_train, y_test = train_test_split(X, y, random_state=45, train_size=0.7)\n",
    "    \n",
    "    # Training the model\n",
    "    clf = GradientBoostingClassifier(n_estimators=100, learning_rate=0.5, max_depth=4, random_state=0)\n",
    "    clf.fit(X_train, y_train)\n",
    "    #clf.score(X_test, y_test)\n",
    "\n",
    "    # getting the assingment probabilities\n",
    "    x_final = feature_processing(df_test)\n",
    "    proba = clf.predict_proba(x_final)[:,1]\n",
    "    x_final['compliance'] = proba\n",
    "    \n",
    "    return x_final.compliance # value to return"
   ]
  },
  {
   "cell_type": "code",
   "execution_count": 126,
   "metadata": {},
   "outputs": [
    {
     "output_type": "execute_result",
     "data": {
      "text/plain": [
       "ticket_id\n",
       "284932    0.073359\n",
       "285362    0.014829\n",
       "285361    0.070017\n",
       "285338    0.117436\n",
       "285346    0.100747\n",
       "            ...   \n",
       "376496    0.002774\n",
       "376497    0.002774\n",
       "376499    0.065313\n",
       "376500    0.065313\n",
       "369851    0.220443\n",
       "Name: compliance, Length: 61001, dtype: float64"
      ]
     },
     "metadata": {},
     "execution_count": 126
    }
   ],
   "source": [
    "blight_model()"
   ]
  },
  {
   "cell_type": "code",
   "execution_count": null,
   "metadata": {},
   "outputs": [],
   "source": []
  }
 ]
}